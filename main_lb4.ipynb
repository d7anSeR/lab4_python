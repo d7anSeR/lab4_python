{
 "cells": [
  {
   "cell_type": "code",
   "execution_count": 169,
   "metadata": {},
   "outputs": [],
   "source": [
    "import pandas as pd\n",
    "import os\n",
    "from task1 import create_csv1"
   ]
  },
  {
   "cell_type": "markdown",
   "metadata": {},
   "source": [
    "create columns of DataFrame"
   ]
  },
  {
   "cell_type": "code",
   "execution_count": 170,
   "metadata": {},
   "outputs": [],
   "source": [
    "def create_columns(name_class_good: str, name_class_bad: str, df: pd.DataFrame):\n",
    "    df['review'] = \"\"\n",
    "    df['number_words'] = \"\"\n",
    "    i = 0\n",
    "    for file_dataset in os.listdir(\"dataset\"):\n",
    "        path_p = os.path.join(\"dataset\", file_dataset)\n",
    "        class_name = os.listdir(path_p)\n",
    "        for elem in class_name:\n",
    "            name = os.path.join(path_p, elem)\n",
    "            f = open(name, mode = 'rt', encoding = 'utf-8')\n",
    "            data = f.read()\n",
    "            df.loc[[i], 'review'] = data \n",
    "            words = data.split()\n",
    "            df.loc[[i], 'number_words'] = len(words)\n",
    "            f.close()\n",
    "            i += 1"
   ]
  },
  {
   "cell_type": "markdown",
   "metadata": {},
   "source": [
    "create new DataFrame with limiting value"
   ]
  },
  {
   "cell_type": "code",
   "execution_count": 204,
   "metadata": {},
   "outputs": [],
   "source": [
    "def create_new_df(df: pd.DataFrame, limit: int):\n",
    "    return df[df['number_words'] <= limit][['class_name', 'review', 'number_words']]"
   ]
  },
  {
   "cell_type": "markdown",
   "metadata": {},
   "source": [
    "create new DataFrame by label"
   ]
  },
  {
   "cell_type": "code",
   "execution_count": 172,
   "metadata": {},
   "outputs": [],
   "source": [
    "def create_df_metka(df: pd.DataFrame, metka: str):\n",
    "    return df[df['class_name'] == metka][['class_name', 'review', 'number_words']]"
   ]
  },
  {
   "cell_type": "code",
   "execution_count": 208,
   "metadata": {},
   "outputs": [],
   "source": [
    "def group_df(df: pd.DataFrame):\n",
    "    print(\"average: \", df.number_words.mean(axis=0))\n",
    "    print(\"maximum: \", df.number_words.max())\n",
    "    print(\"minimum\", df.number_words.min())\n",
    "    return df.groupby('class_name').count() "
   ]
  },
  {
   "cell_type": "markdown",
   "metadata": {},
   "source": [
    "create DataFrame"
   ]
  },
  {
   "cell_type": "code",
   "execution_count": null,
   "metadata": {},
   "outputs": [],
   "source": [
    "name_class_good = \"good\"\n",
    "name_class_bad = \"bad\"\n",
    "create_csv1(name_class_bad, name_class_good, \"annotation\")\n",
    "df = pd.read_csv(\"annotation\", encoding = 'utf-16', delimiter=';',names=['absolut_path', 'otnos_path', 'class_name'])\n",
    "df = df.drop(['absolut_path', 'otnos_path'], axis=1)\n",
    "df"
   ]
  },
  {
   "cell_type": "markdown",
   "metadata": {},
   "source": [
    "checking for emptiness"
   ]
  },
  {
   "cell_type": "code",
   "execution_count": null,
   "metadata": {},
   "outputs": [],
   "source": [
    "pd.isnull(df)"
   ]
  },
  {
   "cell_type": "markdown",
   "metadata": {},
   "source": [
    "counting number of empty elements"
   ]
  },
  {
   "cell_type": "code",
   "execution_count": null,
   "metadata": {},
   "outputs": [],
   "source": [
    "df.isnull().sum()"
   ]
  },
  {
   "cell_type": "code",
   "execution_count": null,
   "metadata": {},
   "outputs": [],
   "source": [
    "create_columns(name_class_good, name_class_bad, df)\n",
    "df"
   ]
  },
  {
   "cell_type": "code",
   "execution_count": null,
   "metadata": {},
   "outputs": [],
   "source": [
    "df_lim = create_new_df(df, 100)\n",
    "df_lim"
   ]
  },
  {
   "cell_type": "code",
   "execution_count": null,
   "metadata": {},
   "outputs": [],
   "source": [
    "df_met = create_df_metka(df, name_class_good)\n",
    "df_met"
   ]
  },
  {
   "cell_type": "code",
   "execution_count": 209,
   "metadata": {},
   "outputs": [
    {
     "name": "stdout",
     "output_type": "stream",
     "text": [
      "average:  369.6215\n",
      "maximum:  1791\n",
      "minimum 35\n"
     ]
    },
    {
     "data": {
      "text/html": [
       "<div>\n",
       "<style scoped>\n",
       "    .dataframe tbody tr th:only-of-type {\n",
       "        vertical-align: middle;\n",
       "    }\n",
       "\n",
       "    .dataframe tbody tr th {\n",
       "        vertical-align: top;\n",
       "    }\n",
       "\n",
       "    .dataframe thead th {\n",
       "        text-align: right;\n",
       "    }\n",
       "</style>\n",
       "<table border=\"1\" class=\"dataframe\">\n",
       "  <thead>\n",
       "    <tr style=\"text-align: right;\">\n",
       "      <th></th>\n",
       "      <th>review</th>\n",
       "      <th>number_words</th>\n",
       "    </tr>\n",
       "    <tr>\n",
       "      <th>class_name</th>\n",
       "      <th></th>\n",
       "      <th></th>\n",
       "    </tr>\n",
       "  </thead>\n",
       "  <tbody>\n",
       "    <tr>\n",
       "      <th>bad</th>\n",
       "      <td>1000</td>\n",
       "      <td>1000</td>\n",
       "    </tr>\n",
       "    <tr>\n",
       "      <th>good</th>\n",
       "      <td>1000</td>\n",
       "      <td>1000</td>\n",
       "    </tr>\n",
       "  </tbody>\n",
       "</table>\n",
       "</div>"
      ],
      "text/plain": [
       "            review  number_words\n",
       "class_name                      \n",
       "bad           1000          1000\n",
       "good          1000          1000"
      ]
     },
     "execution_count": 209,
     "metadata": {},
     "output_type": "execute_result"
    }
   ],
   "source": [
    "df_group = group_df(df)\n",
    "df_group"
   ]
  }
 ],
 "metadata": {
  "kernelspec": {
   "display_name": "Python 3.10.7 ('.lab3_forpp': venv)",
   "language": "python",
   "name": "python3"
  },
  "language_info": {
   "codemirror_mode": {
    "name": "ipython",
    "version": 3
   },
   "file_extension": ".py",
   "mimetype": "text/x-python",
   "name": "python",
   "nbconvert_exporter": "python",
   "pygments_lexer": "ipython3",
   "version": "3.10.7"
  },
  "orig_nbformat": 4,
  "vscode": {
   "interpreter": {
    "hash": "590ee9e703de4d9123222d511d8b0e9739ae918ef8de2ec39ed520a6bc9f8566"
   }
  }
 },
 "nbformat": 4,
 "nbformat_minor": 2
}
