{
 "cells": [
  {
   "cell_type": "code",
   "execution_count": 4,
   "metadata": {},
   "outputs": [],
   "source": [
    "import pandas as pd\n",
    "import matplotlib.pyplot as plt\n",
    "import os\n",
    "from task1 import create_csv1\n",
    "import re\n",
    "import string\n",
    "import pymorphy2\n",
    "morph = pymorphy2.MorphAnalyzer()\n",
    "from nltk.corpus import stopwords\n",
    "russian_stopwords = stopwords.words(\"russian\")\n",
    "from nltk.tokenize import word_tokenize \n"
   ]
  },
  {
   "cell_type": "code",
   "execution_count": 5,
   "metadata": {},
   "outputs": [],
   "source": [
    "def create_columns(name_class_good: str, name_class_bad: str, df: pd.DataFrame) -> None:\n",
    "    '''create columns of DataFrame'''\n",
    "    df['review'] = \"\"\n",
    "    df['number_words'] = \"\"\n",
    "    i = 0\n",
    "    for file_dataset in os.listdir(\"dataset\"):\n",
    "        path_p = os.path.join(\"dataset\", file_dataset)\n",
    "        class_name = os.listdir(path_p)\n",
    "        for elem in class_name:\n",
    "            name = os.path.join(path_p, elem)\n",
    "            f = open(name, mode='rt', encoding='utf-8')\n",
    "            data = f.read()\n",
    "            df.loc[[i], 'review'] = data\n",
    "            words = data.split()\n",
    "            df.loc[[i], 'number_words'] = len(words)\n",
    "            f.close()\n",
    "            i += 1\n",
    "\n",
    "\n",
    "def create_new_df(df: pd.DataFrame, limit: int) -> pd.DataFrame:\n",
    "    '''create new DataFrame with limiting value'''\n",
    "    return df[df['number_words'] <= limit][['class_name', 'review', 'number_words']]\n",
    "\n",
    "\n",
    "def create_df_metka(df: pd.DataFrame, metka: str) -> pd.DataFrame:\n",
    "    '''create new DataFrame by label'''\n",
    "    return df[df['class_name'] == metka][['class_name', 'review', 'number_words']]\n",
    "\n",
    "\n",
    "def group_df(df: pd.DataFrame) -> pd.DataFrame:\n",
    "    '''grouping the data frame by label and displaying the average value, maximum and minimum of the \"number_words\" '''\n",
    "    print(\"average: \", df.number_words.mean(axis=0))\n",
    "    print(\"maximum: \", df.number_words.max())\n",
    "    print(\"minimum\", df.number_words.min())\n",
    "    return df.groupby('class_name').count()\n",
    "\n",
    "\n",
    "def lemmatize(text) -> list:\n",
    "    '''lemmatization of the text'''\n",
    "    new_list = []\n",
    "    tt = str.maketrans(dict.fromkeys(string.punctuation))\n",
    "    elem = text.translate(tt)\n",
    "    if elem is not None:\n",
    "        list_words = elem.split()\n",
    "    for word in list_words:\n",
    "        p = morph.parse(word)[0]\n",
    "        new_list.append(p.normal_form)\n",
    "    return new_list\n",
    "\n",
    "\n",
    "def create_histog(df: pd.DataFrame, metka) -> plt.Figure:\n",
    "    '''create histogram'''\n",
    "    dict = {}\n",
    "    list_word = []\n",
    "    tmp_list = []\n",
    "    df = df[df['class_name'] == metka][['review']]\n",
    "    for text in df['review']:\n",
    "        tt = str.maketrans(dict.fromkeys(string.punctuation))\n",
    "        elem = text.translate(tt)\n",
    "        if elem is not None:\n",
    "            list_words = elem.split()\n",
    "        for word in list_words:\n",
    "            p = morph.parse(word)[0]\n",
    "            list_word.append(p.normal_form)\n",
    "    for word in list_word:\n",
    "        if word not in dict.keys():\n",
    "            dict[word] = list_word.count(word)\n",
    "            tmp_list.append(list_word.count(word))\n",
    "    return tmp_list, dict\n"
   ]
  },
  {
   "cell_type": "markdown",
   "metadata": {},
   "source": [
    "create DataFrame"
   ]
  },
  {
   "cell_type": "code",
   "execution_count": 6,
   "metadata": {},
   "outputs": [
    {
     "data": {
      "text/html": [
       "<div>\n",
       "<style scoped>\n",
       "    .dataframe tbody tr th:only-of-type {\n",
       "        vertical-align: middle;\n",
       "    }\n",
       "\n",
       "    .dataframe tbody tr th {\n",
       "        vertical-align: top;\n",
       "    }\n",
       "\n",
       "    .dataframe thead th {\n",
       "        text-align: right;\n",
       "    }\n",
       "</style>\n",
       "<table border=\"1\" class=\"dataframe\">\n",
       "  <thead>\n",
       "    <tr style=\"text-align: right;\">\n",
       "      <th></th>\n",
       "      <th>class_name</th>\n",
       "    </tr>\n",
       "  </thead>\n",
       "  <tbody>\n",
       "    <tr>\n",
       "      <th>0</th>\n",
       "      <td>good</td>\n",
       "    </tr>\n",
       "    <tr>\n",
       "      <th>1</th>\n",
       "      <td>good</td>\n",
       "    </tr>\n",
       "    <tr>\n",
       "      <th>2</th>\n",
       "      <td>good</td>\n",
       "    </tr>\n",
       "    <tr>\n",
       "      <th>3</th>\n",
       "      <td>good</td>\n",
       "    </tr>\n",
       "    <tr>\n",
       "      <th>4</th>\n",
       "      <td>good</td>\n",
       "    </tr>\n",
       "    <tr>\n",
       "      <th>...</th>\n",
       "      <td>...</td>\n",
       "    </tr>\n",
       "    <tr>\n",
       "      <th>1995</th>\n",
       "      <td>bad</td>\n",
       "    </tr>\n",
       "    <tr>\n",
       "      <th>1996</th>\n",
       "      <td>bad</td>\n",
       "    </tr>\n",
       "    <tr>\n",
       "      <th>1997</th>\n",
       "      <td>bad</td>\n",
       "    </tr>\n",
       "    <tr>\n",
       "      <th>1998</th>\n",
       "      <td>bad</td>\n",
       "    </tr>\n",
       "    <tr>\n",
       "      <th>1999</th>\n",
       "      <td>bad</td>\n",
       "    </tr>\n",
       "  </tbody>\n",
       "</table>\n",
       "<p>2000 rows × 1 columns</p>\n",
       "</div>"
      ],
      "text/plain": [
       "     class_name\n",
       "0          good\n",
       "1          good\n",
       "2          good\n",
       "3          good\n",
       "4          good\n",
       "...         ...\n",
       "1995        bad\n",
       "1996        bad\n",
       "1997        bad\n",
       "1998        bad\n",
       "1999        bad\n",
       "\n",
       "[2000 rows x 1 columns]"
      ]
     },
     "execution_count": 6,
     "metadata": {},
     "output_type": "execute_result"
    }
   ],
   "source": [
    "name_class_good = \"good\"\n",
    "name_class_bad = \"bad\"\n",
    "create_csv1(name_class_bad, name_class_good, \"annotation\")\n",
    "df = pd.read_csv(\"annotation\", encoding='utf-16', delimiter=';',\n",
    "                 names=['absolut_path', 'otnos_path', 'class_name'])\n",
    "df = df.drop(['absolut_path', 'otnos_path'], axis=1)\n",
    "df\n"
   ]
  },
  {
   "cell_type": "markdown",
   "metadata": {},
   "source": [
    "checking for emptiness"
   ]
  },
  {
   "cell_type": "code",
   "execution_count": null,
   "metadata": {},
   "outputs": [],
   "source": [
    "pd.isnull(df)"
   ]
  },
  {
   "cell_type": "markdown",
   "metadata": {},
   "source": [
    "counting number of empty elements"
   ]
  },
  {
   "cell_type": "code",
   "execution_count": null,
   "metadata": {},
   "outputs": [],
   "source": [
    "df.isnull().sum()\n"
   ]
  },
  {
   "cell_type": "code",
   "execution_count": 7,
   "metadata": {},
   "outputs": [
    {
     "data": {
      "text/html": [
       "<div>\n",
       "<style scoped>\n",
       "    .dataframe tbody tr th:only-of-type {\n",
       "        vertical-align: middle;\n",
       "    }\n",
       "\n",
       "    .dataframe tbody tr th {\n",
       "        vertical-align: top;\n",
       "    }\n",
       "\n",
       "    .dataframe thead th {\n",
       "        text-align: right;\n",
       "    }\n",
       "</style>\n",
       "<table border=\"1\" class=\"dataframe\">\n",
       "  <thead>\n",
       "    <tr style=\"text-align: right;\">\n",
       "      <th></th>\n",
       "      <th>class_name</th>\n",
       "      <th>review</th>\n",
       "      <th>number_words</th>\n",
       "    </tr>\n",
       "  </thead>\n",
       "  <tbody>\n",
       "    <tr>\n",
       "      <th>0</th>\n",
       "      <td>good</td>\n",
       "      <td>Сумерки\\nНа фильм попала случайно, никогда осо...</td>\n",
       "      <td>238</td>\n",
       "    </tr>\n",
       "    <tr>\n",
       "      <th>1</th>\n",
       "      <td>good</td>\n",
       "      <td>Сумерки\\nСкажу сразу: смотрела фильм скаченный...</td>\n",
       "      <td>194</td>\n",
       "    </tr>\n",
       "    <tr>\n",
       "      <th>2</th>\n",
       "      <td>good</td>\n",
       "      <td>Сумерки\\nК своему счастью с книгой я познакоми...</td>\n",
       "      <td>753</td>\n",
       "    </tr>\n",
       "    <tr>\n",
       "      <th>3</th>\n",
       "      <td>good</td>\n",
       "      <td>Сумерки\\nПризнаюсь, фильм решила посмотреть из...</td>\n",
       "      <td>281</td>\n",
       "    </tr>\n",
       "    <tr>\n",
       "      <th>4</th>\n",
       "      <td>good</td>\n",
       "      <td>Сумерки\\nФильм 'Сумерки' реально мёртвое кино ...</td>\n",
       "      <td>332</td>\n",
       "    </tr>\n",
       "    <tr>\n",
       "      <th>...</th>\n",
       "      <td>...</td>\n",
       "      <td>...</td>\n",
       "      <td>...</td>\n",
       "    </tr>\n",
       "    <tr>\n",
       "      <th>1995</th>\n",
       "      <td>bad</td>\n",
       "      <td>Тайна Коко\\nНаверное, это будет мой самый коро...</td>\n",
       "      <td>392</td>\n",
       "    </tr>\n",
       "    <tr>\n",
       "      <th>1996</th>\n",
       "      <td>bad</td>\n",
       "      <td>Тайна Коко\\nБез сомнения, у студии Пиксар есть...</td>\n",
       "      <td>822</td>\n",
       "    </tr>\n",
       "    <tr>\n",
       "      <th>1997</th>\n",
       "      <td>bad</td>\n",
       "      <td>Тайна Коко\\n'Тайна Коко' - это история о мекси...</td>\n",
       "      <td>272</td>\n",
       "    </tr>\n",
       "    <tr>\n",
       "      <th>1998</th>\n",
       "      <td>bad</td>\n",
       "      <td>Тайна Коко\\nК сожалению, в последнее время, та...</td>\n",
       "      <td>218</td>\n",
       "    </tr>\n",
       "    <tr>\n",
       "      <th>1999</th>\n",
       "      <td>bad</td>\n",
       "      <td>Тайна Коко\\nСтудия Pixar, совместно с Disney, ...</td>\n",
       "      <td>639</td>\n",
       "    </tr>\n",
       "  </tbody>\n",
       "</table>\n",
       "<p>2000 rows × 3 columns</p>\n",
       "</div>"
      ],
      "text/plain": [
       "     class_name                                             review  \\\n",
       "0          good  Сумерки\\nНа фильм попала случайно, никогда осо...   \n",
       "1          good  Сумерки\\nСкажу сразу: смотрела фильм скаченный...   \n",
       "2          good  Сумерки\\nК своему счастью с книгой я познакоми...   \n",
       "3          good  Сумерки\\nПризнаюсь, фильм решила посмотреть из...   \n",
       "4          good  Сумерки\\nФильм 'Сумерки' реально мёртвое кино ...   \n",
       "...         ...                                                ...   \n",
       "1995        bad  Тайна Коко\\nНаверное, это будет мой самый коро...   \n",
       "1996        bad  Тайна Коко\\nБез сомнения, у студии Пиксар есть...   \n",
       "1997        bad  Тайна Коко\\n'Тайна Коко' - это история о мекси...   \n",
       "1998        bad  Тайна Коко\\nК сожалению, в последнее время, та...   \n",
       "1999        bad  Тайна Коко\\nСтудия Pixar, совместно с Disney, ...   \n",
       "\n",
       "     number_words  \n",
       "0             238  \n",
       "1             194  \n",
       "2             753  \n",
       "3             281  \n",
       "4             332  \n",
       "...           ...  \n",
       "1995          392  \n",
       "1996          822  \n",
       "1997          272  \n",
       "1998          218  \n",
       "1999          639  \n",
       "\n",
       "[2000 rows x 3 columns]"
      ]
     },
     "execution_count": 7,
     "metadata": {},
     "output_type": "execute_result"
    }
   ],
   "source": [
    "create_columns(name_class_good, name_class_bad, df)\n",
    "df\n"
   ]
  },
  {
   "cell_type": "code",
   "execution_count": 216,
   "metadata": {},
   "outputs": [
    {
     "data": {
      "text/html": [
       "<div>\n",
       "<style scoped>\n",
       "    .dataframe tbody tr th:only-of-type {\n",
       "        vertical-align: middle;\n",
       "    }\n",
       "\n",
       "    .dataframe tbody tr th {\n",
       "        vertical-align: top;\n",
       "    }\n",
       "\n",
       "    .dataframe thead th {\n",
       "        text-align: right;\n",
       "    }\n",
       "</style>\n",
       "<table border=\"1\" class=\"dataframe\">\n",
       "  <thead>\n",
       "    <tr style=\"text-align: right;\">\n",
       "      <th></th>\n",
       "      <th>class_name</th>\n",
       "      <th>review</th>\n",
       "      <th>number_words</th>\n",
       "    </tr>\n",
       "  </thead>\n",
       "  <tbody>\n",
       "    <tr>\n",
       "      <th>1958</th>\n",
       "      <td>good</td>\n",
       "      <td>Список Шиндлера\\nНасколько реально снять фильм...</td>\n",
       "      <td>82</td>\n",
       "    </tr>\n",
       "    <tr>\n",
       "      <th>1983</th>\n",
       "      <td>good</td>\n",
       "      <td>Список Шиндлера\\nЯ редко помню о чем было прос...</td>\n",
       "      <td>86</td>\n",
       "    </tr>\n",
       "    <tr>\n",
       "      <th>1984</th>\n",
       "      <td>good</td>\n",
       "      <td>10 причин моей ненависти\\nЭто хоть и стареньки...</td>\n",
       "      <td>35</td>\n",
       "    </tr>\n",
       "  </tbody>\n",
       "</table>\n",
       "</div>"
      ],
      "text/plain": [
       "     class_name                                             review  \\\n",
       "1958       good  Список Шиндлера\\nНасколько реально снять фильм...   \n",
       "1983       good  Список Шиндлера\\nЯ редко помню о чем было прос...   \n",
       "1984       good  10 причин моей ненависти\\nЭто хоть и стареньки...   \n",
       "\n",
       "     number_words  \n",
       "1958           82  \n",
       "1983           86  \n",
       "1984           35  "
      ]
     },
     "execution_count": 216,
     "metadata": {},
     "output_type": "execute_result"
    }
   ],
   "source": [
    "df_lim = create_new_df(df, 100)\n",
    "df_lim\n"
   ]
  },
  {
   "cell_type": "markdown",
   "metadata": {},
   "source": [
    "statistical information for number_words column"
   ]
  },
  {
   "cell_type": "code",
   "execution_count": 215,
   "metadata": {},
   "outputs": [
    {
     "data": {
      "text/plain": [
       "count     2000\n",
       "unique     132\n",
       "top        281\n",
       "freq        92\n",
       "Name: number_words, dtype: int64"
      ]
     },
     "execution_count": 215,
     "metadata": {},
     "output_type": "execute_result"
    }
   ],
   "source": [
    "df.number_words.describe()\n"
   ]
  },
  {
   "cell_type": "code",
   "execution_count": 84,
   "metadata": {},
   "outputs": [
    {
     "data": {
      "text/html": [
       "<div>\n",
       "<style scoped>\n",
       "    .dataframe tbody tr th:only-of-type {\n",
       "        vertical-align: middle;\n",
       "    }\n",
       "\n",
       "    .dataframe tbody tr th {\n",
       "        vertical-align: top;\n",
       "    }\n",
       "\n",
       "    .dataframe thead th {\n",
       "        text-align: right;\n",
       "    }\n",
       "</style>\n",
       "<table border=\"1\" class=\"dataframe\">\n",
       "  <thead>\n",
       "    <tr style=\"text-align: right;\">\n",
       "      <th></th>\n",
       "      <th>class_name</th>\n",
       "      <th>review</th>\n",
       "      <th>number_words</th>\n",
       "    </tr>\n",
       "  </thead>\n",
       "  <tbody>\n",
       "    <tr>\n",
       "      <th>0</th>\n",
       "      <td>good</td>\n",
       "      <td>Сумерки\\nНа фильм попала случайно, никогда осо...</td>\n",
       "      <td>238</td>\n",
       "    </tr>\n",
       "    <tr>\n",
       "      <th>1</th>\n",
       "      <td>good</td>\n",
       "      <td>Сумерки\\nСкажу сразу: смотрела фильм скаченный...</td>\n",
       "      <td>194</td>\n",
       "    </tr>\n",
       "    <tr>\n",
       "      <th>2</th>\n",
       "      <td>good</td>\n",
       "      <td>Сумерки\\nК своему счастью с книгой я познакоми...</td>\n",
       "      <td>753</td>\n",
       "    </tr>\n",
       "    <tr>\n",
       "      <th>3</th>\n",
       "      <td>good</td>\n",
       "      <td>Сумерки\\nПризнаюсь, фильм решила посмотреть из...</td>\n",
       "      <td>281</td>\n",
       "    </tr>\n",
       "    <tr>\n",
       "      <th>4</th>\n",
       "      <td>good</td>\n",
       "      <td>Сумерки\\nФильм 'Сумерки' реально мёртвое кино ...</td>\n",
       "      <td>332</td>\n",
       "    </tr>\n",
       "    <tr>\n",
       "      <th>...</th>\n",
       "      <td>...</td>\n",
       "      <td>...</td>\n",
       "      <td>...</td>\n",
       "    </tr>\n",
       "    <tr>\n",
       "      <th>995</th>\n",
       "      <td>good</td>\n",
       "      <td>Звёздные войны: Пробуждение силы\\nВдохновившис...</td>\n",
       "      <td>413</td>\n",
       "    </tr>\n",
       "    <tr>\n",
       "      <th>996</th>\n",
       "      <td>good</td>\n",
       "      <td>Звёздные войны: Пробуждение силы\\n2005 год. Бе...</td>\n",
       "      <td>491</td>\n",
       "    </tr>\n",
       "    <tr>\n",
       "      <th>997</th>\n",
       "      <td>good</td>\n",
       "      <td>Звёздные войны: Пробуждение силы\\nКак фанат са...</td>\n",
       "      <td>447</td>\n",
       "    </tr>\n",
       "    <tr>\n",
       "      <th>998</th>\n",
       "      <td>good</td>\n",
       "      <td>Звёздные войны: Пробуждение силы\\nЗвездные Вой...</td>\n",
       "      <td>567</td>\n",
       "    </tr>\n",
       "    <tr>\n",
       "      <th>999</th>\n",
       "      <td>good</td>\n",
       "      <td>Властелин колец: Две крепости\\nНи разу в жизни...</td>\n",
       "      <td>457</td>\n",
       "    </tr>\n",
       "  </tbody>\n",
       "</table>\n",
       "<p>1000 rows × 3 columns</p>\n",
       "</div>"
      ],
      "text/plain": [
       "    class_name                                             review number_words\n",
       "0         good  Сумерки\\nНа фильм попала случайно, никогда осо...          238\n",
       "1         good  Сумерки\\nСкажу сразу: смотрела фильм скаченный...          194\n",
       "2         good  Сумерки\\nК своему счастью с книгой я познакоми...          753\n",
       "3         good  Сумерки\\nПризнаюсь, фильм решила посмотреть из...          281\n",
       "4         good  Сумерки\\nФильм 'Сумерки' реально мёртвое кино ...          332\n",
       "..         ...                                                ...          ...\n",
       "995       good  Звёздные войны: Пробуждение силы\\nВдохновившис...          413\n",
       "996       good  Звёздные войны: Пробуждение силы\\n2005 год. Бе...          491\n",
       "997       good  Звёздные войны: Пробуждение силы\\nКак фанат са...          447\n",
       "998       good  Звёздные войны: Пробуждение силы\\nЗвездные Вой...          567\n",
       "999       good  Властелин колец: Две крепости\\nНи разу в жизни...          457\n",
       "\n",
       "[1000 rows x 3 columns]"
      ]
     },
     "execution_count": 84,
     "metadata": {},
     "output_type": "execute_result"
    }
   ],
   "source": [
    "df_met = create_df_metka(df, name_class_good)\n",
    "df_met\n"
   ]
  },
  {
   "cell_type": "code",
   "execution_count": 209,
   "metadata": {},
   "outputs": [
    {
     "name": "stdout",
     "output_type": "stream",
     "text": [
      "average:  369.6215\n",
      "maximum:  1791\n",
      "minimum 35\n"
     ]
    },
    {
     "data": {
      "text/html": [
       "<div>\n",
       "<style scoped>\n",
       "    .dataframe tbody tr th:only-of-type {\n",
       "        vertical-align: middle;\n",
       "    }\n",
       "\n",
       "    .dataframe tbody tr th {\n",
       "        vertical-align: top;\n",
       "    }\n",
       "\n",
       "    .dataframe thead th {\n",
       "        text-align: right;\n",
       "    }\n",
       "</style>\n",
       "<table border=\"1\" class=\"dataframe\">\n",
       "  <thead>\n",
       "    <tr style=\"text-align: right;\">\n",
       "      <th></th>\n",
       "      <th>review</th>\n",
       "      <th>number_words</th>\n",
       "    </tr>\n",
       "    <tr>\n",
       "      <th>class_name</th>\n",
       "      <th></th>\n",
       "      <th></th>\n",
       "    </tr>\n",
       "  </thead>\n",
       "  <tbody>\n",
       "    <tr>\n",
       "      <th>bad</th>\n",
       "      <td>1000</td>\n",
       "      <td>1000</td>\n",
       "    </tr>\n",
       "    <tr>\n",
       "      <th>good</th>\n",
       "      <td>1000</td>\n",
       "      <td>1000</td>\n",
       "    </tr>\n",
       "  </tbody>\n",
       "</table>\n",
       "</div>"
      ],
      "text/plain": [
       "            review  number_words\n",
       "class_name                      \n",
       "bad           1000          1000\n",
       "good          1000          1000"
      ]
     },
     "execution_count": 209,
     "metadata": {},
     "output_type": "execute_result"
    }
   ],
   "source": [
    "df_group = group_df(df)\n",
    "df_group\n"
   ]
  },
  {
   "cell_type": "code",
   "execution_count": null,
   "metadata": {},
   "outputs": [],
   "source": [
    "list_t, dic = create_histog(df, 'good')"
   ]
  },
  {
   "cell_type": "code",
   "execution_count": 19,
   "metadata": {},
   "outputs": [
    {
     "name": "stdout",
     "output_type": "stream",
     "text": [
      "4086\n",
      "4086\n"
     ]
    },
    {
     "data": {
      "image/png": "[encoded data removed]",
      "text/plain": [
       "<Figure size 1000x500 with 1 Axes>"
      ]
     },
     "metadata": {},
     "output_type": "display_data"
    }
   ],
   "source": [
    "fig = plt.figure(figsize=(10, 5))\n",
    "plt.ylabel('number of words')\n",
    "plt.title('histogram')\n",
    "plt.hist(list_t, bins = len(dic), color='salmon') \n",
    "print(len(dic))\n",
    "print(len(list_t))\n",
    "plt.show()"
   ]
  }
 ],
 "metadata": {
  "kernelspec": {
   "display_name": "Python 3.10.7 ('.lab3_forpp': venv)",
   "language": "python",
   "name": "python3"
  },
  "language_info": {
   "codemirror_mode": {
    "name": "ipython",
    "version": 3
   },
   "file_extension": ".py",
   "mimetype": "text/x-python",
   "name": "python",
   "nbconvert_exporter": "python",
   "pygments_lexer": "ipython3",
   "version": "3.10.7"
  },
  "orig_nbformat": 4,
  "vscode": {
   "interpreter": {
    "hash": "590ee9e703de4d9123222d511d8b0e9739ae918ef8de2ec39ed520a6bc9f8566"
   }
  }
 },
 "nbformat": 4,
 "nbformat_minor": 2
}
